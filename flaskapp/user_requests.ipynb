{
 "cells": [
  {
   "cell_type": "code",
   "execution_count": 96,
   "metadata": {
    "scrolled": false
   },
   "outputs": [
    {
     "name": "stdout",
     "output_type": "stream",
     "text": [
      "Batman\n"
     ]
    },
    {
     "data": {
      "text/plain": [
       "{'prediction': ['Batman Forever (1995)',\n",
       "  'Batman Returns (1992)',\n",
       "  'Cliffhanger (1993)',\n",
       "  'Rumble in the Bronx (1995)',\n",
       "  'Batman & Robin (1997)',\n",
       "  'Batman (1989)',\n",
       "  'Hard Target (1993)',\n",
       "  'Three Musketeers, The (1993)',\n",
       "  'Best Men (1997)',\n",
       "  'Set It Off (1996)']}"
      ]
     },
     "execution_count": 96,
     "metadata": {},
     "output_type": "execute_result"
    }
   ],
   "source": [
    "import requests\n",
    "import numpy as np\n",
    "import json\n",
    "\n",
    "test_x=\"Batman\"\n",
    "\n",
    "url = 'http://127.0.0.1:5000/'\n",
    "params ={\"query\": test_x}\n",
    "\n",
    "print(params[\"query\"])\n",
    "\n",
    "response = requests.get(url, params)\n",
    "response.json()"
   ]
  },
  {
   "cell_type": "code",
   "execution_count": null,
   "metadata": {
    "collapsed": true
   },
   "outputs": [],
   "source": []
  },
  {
   "cell_type": "code",
   "execution_count": null,
   "metadata": {
    "collapsed": true
   },
   "outputs": [],
   "source": []
  }
 ],
 "metadata": {
  "kernelspec": {
   "display_name": "Python [conda env:Anaconda3]",
   "language": "python",
   "name": "conda-env-Anaconda3-py"
  },
  "language_info": {
   "codemirror_mode": {
    "name": "ipython",
    "version": 3
   },
   "file_extension": ".py",
   "mimetype": "text/x-python",
   "name": "python",
   "nbconvert_exporter": "python",
   "pygments_lexer": "ipython3",
   "version": "3.6.2"
  }
 },
 "nbformat": 4,
 "nbformat_minor": 2
}
